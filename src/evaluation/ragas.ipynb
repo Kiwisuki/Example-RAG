{
 "cells": [
  {
   "cell_type": "code",
   "execution_count": 1,
   "metadata": {},
   "outputs": [
    {
     "name": "stdout",
     "output_type": "stream",
     "text": [
      "/home/kiwi/Desktop/Example-RAG\n"
     ]
    }
   ],
   "source": [
    "%cd ../.."
   ]
  },
  {
   "cell_type": "code",
   "execution_count": null,
   "metadata": {},
   "outputs": [],
   "source": [
    "from datasets import Dataset\n",
    "from ragas import evaluate\n",
    "from ragas.metrics import (\n",
    "    faithfulness,\n",
    "    answer_relevancy,\n",
    "    context_recall,\n",
    "    context_precision,\n",
    ")\n",
    "\n",
    "from src.example_rag.chatbot.messenger import Messenger\n",
    "from src.example_rag.chatbot.model import MiniLlama\n",
    "from src.example_rag.chatbot.retriever import get_retriever\n",
    "from src.example_rag.settings import COLLECTION_NAME, GenerationSettings\n",
    "\n",
    "gen_settings = GenerationSettings()\n",
    "\n",
    "chat_model = MiniLlama(\n",
    "    max_new_tokens=gen_settings.max_new_tokens,\n",
    "    temperature=gen_settings.temperature,\n",
    "    top_p=gen_settings.top_p,\n",
    ")\n",
    "retriever = get_retriever(COLLECTION_NAME, gen_settings.similiarity_top_k, host='localhost')\n",
    "messenger =  Messenger(chat_model, retriever)"
   ]
  },
  {
   "cell_type": "code",
   "execution_count": null,
   "metadata": {},
   "outputs": [],
   "source": [
    "questions = [\n",
    "    \"Who was the first love of Liudas Vasaris?\",\n",
    "]\n",
    "\n",
    "ground_truths = [\n",
    "    \"His first love was Lucie\",\n",
    "]\n",
    "\n",
    "answers = []\n",
    "\n",
    "contexts = []\n",
    "\n",
    "for question in questions:\n",
    "    answer, nodes = messenger.chat(question, return_nodes=True)\n",
    "    context = [node.text for node in nodes]\n",
    "    messenger.reset_context()\n",
    "    answers.append(answer)\n",
    "    contexts.append(context)\n",
    "\n",
    "\n",
    "data = {\n",
    "    \"question\": questions,\n",
    "    \"answer\": answers,\n",
    "    \"contexts\": contexts,\n",
    "    \"ground_truth\": ground_truths\n",
    "}\n",
    "\n",
    "dataset = Dataset.from_dict(data)\n",
    "\n",
    "result = evaluate(\n",
    "    dataset = dataset, \n",
    "    metrics=[\n",
    "        context_precision,\n",
    "        context_recall,\n",
    "        faithfulness,\n",
    "        answer_relevancy,\n",
    "    ],\n",
    ")\n",
    "\n",
    "result = result.to_pandas()\n",
    "result.head()"
   ]
  },
  {
   "cell_type": "code",
   "execution_count": null,
   "metadata": {},
   "outputs": [],
   "source": []
  }
 ],
 "metadata": {
  "kernelspec": {
   "display_name": ".venv",
   "language": "python",
   "name": "python3"
  },
  "language_info": {
   "codemirror_mode": {
    "name": "ipython",
    "version": 3
   },
   "file_extension": ".py",
   "mimetype": "text/x-python",
   "name": "python",
   "nbconvert_exporter": "python",
   "pygments_lexer": "ipython3",
   "version": "3.11.9"
  }
 },
 "nbformat": 4,
 "nbformat_minor": 2
}
